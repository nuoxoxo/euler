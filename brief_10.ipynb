{
 "cells": [
  {
   "cell_type": "markdown",
   "id": "07512cee",
   "metadata": {},
   "source": [
    "```\n",
    "         \\\\             /`/``\n",
    "         ~\\o o_       0 0\\\n",
    "   _  _  / \\__)      (u  ); _  _\n",
    "  / \\/ \\/  /           \\  \\/ \\/ \\\n",
    " /(   . . )            (         )\\\n",
    "/  \\_____/              \\_______/  \\\n",
    "    []  []               [[] [[]    *.\n",
    "    []] []]              [[] [[]\n",
    "```\n",
    "\n",
    "file under: simple math"
   ]
  },
  {
   "cell_type": "markdown",
   "id": "7ad86334",
   "metadata": {},
   "source": [
    "### Problem 1: Multiples of 3 and 5"
   ]
  },
  {
   "cell_type": "code",
   "execution_count": 28,
   "id": "b2f5e20f",
   "metadata": {},
   "outputs": [
    {
     "name": "stdout",
     "output_type": "stream",
     "text": [
      "4846900\n"
     ]
    }
   ],
   "source": [
    "# sum = 0\n",
    "for a in range(1, 1000):\n",
    "    if a % 3 == 0 or a % 5 == 0:\n",
    "        sum += a\n",
    "print(sum)"
   ]
  },
  {
   "cell_type": "markdown",
   "id": "8f6dc6f7",
   "metadata": {},
   "source": [
    "### Problem 2: Even Fibonacci numbers"
   ]
  },
  {
   "cell_type": "code",
   "execution_count": 29,
   "id": "a7dfbc79",
   "metadata": {},
   "outputs": [
    {
     "name": "stdout",
     "output_type": "stream",
     "text": [
      "4613732\n"
     ]
    }
   ],
   "source": [
    "sum = 0\n",
    "arr = []\n",
    "a = b = 1\n",
    "while b < 4 * pow(10, 6):\n",
    "    arr.append(a)\n",
    "    c = a + b\n",
    "    a = b\n",
    "    b = c\n",
    "for i in arr:\n",
    "    if i % 2 != 0:\n",
    "        sum += i\n",
    "print(sum)"
   ]
  },
  {
   "cell_type": "markdown",
   "id": "6070327c",
   "metadata": {},
   "source": [
    "### Problem 3: Largest prime factor"
   ]
  },
  {
   "cell_type": "code",
   "execution_count": 30,
   "id": "55d7f970",
   "metadata": {},
   "outputs": [
    {
     "name": "stdout",
     "output_type": "stream",
     "text": [
      "6857\n"
     ]
    }
   ],
   "source": [
    "import math\n",
    "num = 600851475143\n",
    "mxp = 0\n",
    "for i in range(3, int(math.sqrt(num / 2)), 2):\n",
    "    if num % i == 0:\n",
    "        mxp = i\n",
    "        num /= i\n",
    "print(mxp)"
   ]
  },
  {
   "cell_type": "markdown",
   "id": "e9af4330",
   "metadata": {},
   "source": [
    "### Problem 4: Largest palindrome product"
   ]
  },
  {
   "cell_type": "code",
   "execution_count": 31,
   "id": "6f1cce73",
   "metadata": {},
   "outputs": [
    {
     "name": "stdout",
     "output_type": "stream",
     "text": [
      "906609\n"
     ]
    }
   ],
   "source": [
    "import math\n",
    "arr = []\n",
    "for x in range(999, 99, -1):\n",
    "    for y in range(x, 99, -1):\n",
    "        n = x * y\n",
    "        if str(n) == ''.join(reversed(str(n))):\n",
    "            arr.append(n)\n",
    "print(max(arr))"
   ]
  },
  {
   "cell_type": "markdown",
   "id": "70ac18ac",
   "metadata": {},
   "source": [
    "### Problem 5: Smallest multiple"
   ]
  },
  {
   "cell_type": "code",
   "execution_count": 32,
   "id": "97315299",
   "metadata": {},
   "outputs": [
    {
     "name": "stdout",
     "output_type": "stream",
     "text": [
      "232792560\n"
     ]
    }
   ],
   "source": [
    "a = 2520\n",
    "for x in range(10, 20):\n",
    "    if a % (x + 1) != 0:\n",
    "        i = 0\n",
    "        for y in (2, x + 1):\n",
    "            if (x + 1) % y == 0 and i < 1:\n",
    "                a *= y\n",
    "                i += 1\n",
    "                \n",
    "                \n",
    "print(a)\n",
    "### produce wrong answer if problem is 1-30 "
   ]
  },
  {
   "cell_type": "markdown",
   "id": "820ba66b",
   "metadata": {},
   "source": [
    "### Problem 6: Sum square difference"
   ]
  },
  {
   "cell_type": "code",
   "execution_count": 33,
   "id": "30592cef",
   "metadata": {},
   "outputs": [
    {
     "name": "stdout",
     "output_type": "stream",
     "text": [
      "338350 5050 25164150\n"
     ]
    }
   ],
   "source": [
    "a = 0\n",
    "b = 0\n",
    "\n",
    "for i in range(101):\n",
    "    a += i ** 2\n",
    "    b += i\n",
    "\n",
    "c = b ** 2 - a\n",
    "\n",
    "print(a, b, c)"
   ]
  },
  {
   "cell_type": "markdown",
   "id": "b5902d99",
   "metadata": {},
   "source": [
    "### Problem 7: Sum square difference"
   ]
  },
  {
   "cell_type": "code",
   "execution_count": 34,
   "id": "ea375d4e",
   "metadata": {},
   "outputs": [
    {
     "name": "stdout",
     "output_type": "stream",
     "text": [
      "104743\n",
      "-12.122795972999938\n"
     ]
    }
   ],
   "source": [
    "# Problem 7 The 10001st prime\n",
    "import time\n",
    "tic = time.perf_counter()\n",
    "\n",
    "n = 10001\n",
    "parr = [2]  ## arr of prime nums\n",
    "x = 3\n",
    "while len(parr) < n:\n",
    "    for i in parr:\n",
    "        if x % i == 0:\n",
    "            x += 2\n",
    "            break\n",
    "    else:\n",
    "        parr.append(x)\n",
    "\n",
    "print(max(parr))\n",
    "\n",
    "toc = time.perf_counter()\n",
    "print(tic - toc)"
   ]
  },
  {
   "cell_type": "markdown",
   "id": "d899e007",
   "metadata": {},
   "source": [
    "### Problem 8: Largest product in a series"
   ]
  },
  {
   "cell_type": "code",
   "execution_count": 35,
   "id": "48a325fd",
   "metadata": {},
   "outputs": [
    {
     "name": "stdout",
     "output_type": "stream",
     "text": [
      "23514624000\n"
     ]
    }
   ],
   "source": [
    "s = \"7316717653133062491922511967442657474235534919493496983520312774506326239578318016984801869478851843858615607891129494954595017379583319528532088055111254069874715852386305071569329096329522744304355766896648950445244523161731856403098711121722383113622298934233803081353362766142828064444866452387493035890729629049156044077239071381051585930796086670172427121883998797908792274921901699720888093776657273330010533678812202354218097512545405947522435258490771167055601360483958644670632441572215539753697817977846174064955149290862569321978468622482839722413756570560574902614079729686524145351004748216637048440319989000889524345065854122758866688116427171479924442928230863465674813919123162824586178664583591245665294765456828489128831426076900422421902267105562632111110937054421750694165896040807198403850962455444362981230987879927244284909188845801561660979191338754992005240636899125607176060588611646710940507754100225698315520005593572972571636269561882670428252483600823257530420752963450\"\n",
    "\n",
    "biggest = 1  ### title\n",
    "\n",
    "arra = [int(i) for i in s]   ### turn every char a list element\n",
    "\n",
    "for a in range(0, len(arra) - 12, 1):\n",
    "    tmp = arra[a]*arra[a+1]*arra[a+2]*arra[a+3]*arra[a+4]*arra[a+5]* arra[a+6]*arra[a+7]*arra[a+8]*arra[a+9]*arra[a+10]*arra[a+11]*arra[a+12]\n",
    "    if tmp > biggest:\n",
    "        biggest = tmp\n",
    "        # print(biggest)\n",
    "                    \n",
    "print(biggest)"
   ]
  },
  {
   "cell_type": "markdown",
   "id": "4afa7bd3",
   "metadata": {},
   "source": [
    "### Problem 9: Special Pythagorean tripletrgest product in a series"
   ]
  },
  {
   "cell_type": "code",
   "execution_count": 36,
   "id": "cb516d11",
   "metadata": {},
   "outputs": [
    {
     "name": "stdout",
     "output_type": "stream",
     "text": [
      "31875000\n"
     ]
    }
   ],
   "source": [
    "for a in range(1, 1000):\n",
    "    for b in range(1, 1000):\n",
    "        c = 1000 - a - b\n",
    "        if c ** 2 == a ** 2 + b ** 2:\n",
    "            x = a * b * c\n",
    "            break\n",
    "print(x)\n",
    "            "
   ]
  },
  {
   "cell_type": "markdown",
   "id": "8787f0d3",
   "metadata": {},
   "source": [
    "### Problem 10: Summation of primes"
   ]
  },
  {
   "cell_type": "code",
   "execution_count": 37,
   "id": "5ec56fba",
   "metadata": {},
   "outputs": [
    {
     "ename": "TypeError",
     "evalue": "'int' object is not callable",
     "output_type": "error",
     "traceback": [
      "\u001b[0;31m---------------------------------------------------------------------------\u001b[0m",
      "\u001b[0;31mTypeError\u001b[0m                                 Traceback (most recent call last)",
      "\u001b[0;32m<ipython-input-37-0686f62e0ed8>\u001b[0m in \u001b[0;36m<module>\u001b[0;34m\u001b[0m\n\u001b[1;32m     16\u001b[0m         \u001b[0marr\u001b[0m\u001b[0;34m.\u001b[0m\u001b[0mappend\u001b[0m\u001b[0;34m(\u001b[0m\u001b[0mx\u001b[0m\u001b[0;34m)\u001b[0m\u001b[0;34m\u001b[0m\u001b[0;34m\u001b[0m\u001b[0m\n\u001b[1;32m     17\u001b[0m \u001b[0;34m\u001b[0m\u001b[0m\n\u001b[0;32m---> 18\u001b[0;31m \u001b[0mprint\u001b[0m\u001b[0;34m(\u001b[0m\u001b[0msum\u001b[0m\u001b[0;34m(\u001b[0m\u001b[0marr\u001b[0m\u001b[0;34m)\u001b[0m\u001b[0;34m)\u001b[0m\u001b[0;34m\u001b[0m\u001b[0;34m\u001b[0m\u001b[0m\n\u001b[0m\u001b[1;32m     19\u001b[0m \u001b[0;34m\u001b[0m\u001b[0m\n\u001b[1;32m     20\u001b[0m \u001b[0mtoc\u001b[0m \u001b[0;34m=\u001b[0m \u001b[0mtime\u001b[0m\u001b[0;34m.\u001b[0m\u001b[0mperf_counter\u001b[0m\u001b[0;34m(\u001b[0m\u001b[0;34m)\u001b[0m\u001b[0;34m\u001b[0m\u001b[0;34m\u001b[0m\u001b[0m\n",
      "\u001b[0;31mTypeError\u001b[0m: 'int' object is not callable"
     ]
    }
   ],
   "source": [
    "from math import sqrt\n",
    "import time\n",
    "\n",
    "arr = [2, 3]\n",
    "\n",
    "tic = time.perf_counter()\n",
    "for x in range(5, 2000000, 2):\n",
    "    counter = 0    \n",
    "    # for y in range(2, x, 1):\n",
    "    for y in range(2, int(sqrt(x)) + 1):\n",
    "        if x % y == 0:\n",
    "            counter += 1\n",
    "            break\n",
    "\n",
    "    if counter == 0:\n",
    "        arr.append(x)\n",
    "\n",
    "print(sum(arr))\n",
    "\n",
    "toc = time.perf_counter()\n",
    "print(toc - tic)"
   ]
  }
 ],
 "metadata": {
  "kernelspec": {
   "display_name": "Python 3",
   "language": "python",
   "name": "python3"
  },
  "language_info": {
   "codemirror_mode": {
    "name": "ipython",
    "version": 3
   },
   "file_extension": ".py",
   "mimetype": "text/x-python",
   "name": "python",
   "nbconvert_exporter": "python",
   "pygments_lexer": "ipython3",
   "version": "3.7.1"
  }
 },
 "nbformat": 4,
 "nbformat_minor": 5
}
