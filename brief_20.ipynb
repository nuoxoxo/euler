{
 "cells": [
  {
   "cell_type": "markdown",
   "id": "07512cee",
   "metadata": {},
   "source": [
    "```\n",
    "         \\\\             /`/``\n",
    "         ~\\o o_       0 0\\\n",
    "   _  _  / \\__)      (u  ); _  _\n",
    "  / \\/ \\/  /           \\  \\/ \\/ \\\n",
    " /(   . . )            (         )\\\n",
    "/  \\_____/              \\_______/  \\\n",
    "    []  []               [[] [[]    *.\n",
    "    []] []]              [[] [[]\n",
    "```\n",
    "\n",
    "11-20"
   ]
  },
  {
   "cell_type": "markdown",
   "id": "7ad86334",
   "metadata": {},
   "source": [
    "### Problem 11: Largest product in a grid"
   ]
  },
  {
   "cell_type": "code",
   "execution_count": 28,
   "id": "b2f5e20f",
   "metadata": {},
   "outputs": [
    {
     "name": "stdout",
     "output_type": "stream",
     "text": [
      "4846900\n"
     ]
    }
   ],
   "source": []
  },
  {
   "cell_type": "markdown",
   "id": "8f6dc6f7",
   "metadata": {},
   "source": [
    "### Problem 12: Highly divisible triangular number"
   ]
  },
  {
   "cell_type": "code",
   "execution_count": 29,
   "id": "a7dfbc79",
   "metadata": {},
   "outputs": [
    {
     "name": "stdout",
     "output_type": "stream",
     "text": [
      "4613732\n"
     ]
    }
   ],
   "source": []
  },
  {
   "cell_type": "markdown",
   "id": "6070327c",
   "metadata": {},
   "source": [
    "### Problem 13: Large sum"
   ]
  },
  {
   "cell_type": "code",
   "execution_count": 30,
   "id": "55d7f970",
   "metadata": {},
   "outputs": [
    {
     "name": "stdout",
     "output_type": "stream",
     "text": [
      "6857\n"
     ]
    }
   ],
   "source": []
  },
  {
   "cell_type": "markdown",
   "id": "e9af4330",
   "metadata": {},
   "source": [
    "### Problem 14: Longest Collatz sequence"
   ]
  },
  {
   "cell_type": "code",
   "execution_count": 31,
   "id": "6f1cce73",
   "metadata": {},
   "outputs": [
    {
     "name": "stdout",
     "output_type": "stream",
     "text": [
      "906609\n"
     ]
    }
   ],
   "source": []
  },
  {
   "cell_type": "markdown",
   "id": "70ac18ac",
   "metadata": {},
   "source": [
    "### Problem 15: Lattice paths"
   ]
  },
  {
   "cell_type": "code",
   "execution_count": 32,
   "id": "97315299",
   "metadata": {},
   "outputs": [
    {
     "name": "stdout",
     "output_type": "stream",
     "text": [
      "232792560\n"
     ]
    }
   ],
   "source": []
  },
  {
   "cell_type": "markdown",
   "id": "820ba66b",
   "metadata": {},
   "source": [
    "### Problem 16: Power digit sum"
   ]
  },
  {
   "cell_type": "code",
   "execution_count": 33,
   "id": "30592cef",
   "metadata": {},
   "outputs": [
    {
     "name": "stdout",
     "output_type": "stream",
     "text": [
      "338350 5050 25164150\n"
     ]
    }
   ],
   "source": []
  },
  {
   "cell_type": "markdown",
   "id": "b5902d99",
   "metadata": {},
   "source": [
    "### Problem 17: Number letter counts"
   ]
  },
  {
   "cell_type": "code",
   "execution_count": 34,
   "id": "ea375d4e",
   "metadata": {},
   "outputs": [
    {
     "name": "stdout",
     "output_type": "stream",
     "text": [
      "104743\n",
      "-12.122795972999938\n"
     ]
    }
   ],
   "source": []
  },
  {
   "cell_type": "markdown",
   "id": "d899e007",
   "metadata": {},
   "source": [
    "### Problem 18: Maximum path sum I"
   ]
  },
  {
   "cell_type": "code",
   "execution_count": 35,
   "id": "48a325fd",
   "metadata": {},
   "outputs": [
    {
     "name": "stdout",
     "output_type": "stream",
     "text": [
      "23514624000\n"
     ]
    }
   ],
   "source": []
  },
  {
   "cell_type": "markdown",
   "id": "4afa7bd3",
   "metadata": {},
   "source": [
    "### Problem 19: Counting Sundays"
   ]
  },
  {
   "cell_type": "code",
   "execution_count": 36,
   "id": "cb516d11",
   "metadata": {},
   "outputs": [
    {
     "name": "stdout",
     "output_type": "stream",
     "text": [
      "31875000\n"
     ]
    }
   ],
   "source": [
    "            "
   ]
  },
  {
   "cell_type": "markdown",
   "id": "8787f0d3",
   "metadata": {},
   "source": [
    "### Problem 20: Factorial digit sum"
   ]
  },
  {
   "cell_type": "code",
   "execution_count": 37,
   "id": "5ec56fba",
   "metadata": {},
   "outputs": [
    {
     "ename": "TypeError",
     "evalue": "'int' object is not callable",
     "output_type": "error",
     "traceback": [
      "\u001b[0;31m---------------------------------------------------------------------------\u001b[0m",
      "\u001b[0;31mTypeError\u001b[0m                                 Traceback (most recent call last)",
      "\u001b[0;32m<ipython-input-37-0686f62e0ed8>\u001b[0m in \u001b[0;36m<module>\u001b[0;34m\u001b[0m\n\u001b[1;32m     16\u001b[0m         \u001b[0marr\u001b[0m\u001b[0;34m.\u001b[0m\u001b[0mappend\u001b[0m\u001b[0;34m(\u001b[0m\u001b[0mx\u001b[0m\u001b[0;34m)\u001b[0m\u001b[0;34m\u001b[0m\u001b[0;34m\u001b[0m\u001b[0m\n\u001b[1;32m     17\u001b[0m \u001b[0;34m\u001b[0m\u001b[0m\n\u001b[0;32m---> 18\u001b[0;31m \u001b[0mprint\u001b[0m\u001b[0;34m(\u001b[0m\u001b[0msum\u001b[0m\u001b[0;34m(\u001b[0m\u001b[0marr\u001b[0m\u001b[0;34m)\u001b[0m\u001b[0;34m)\u001b[0m\u001b[0;34m\u001b[0m\u001b[0;34m\u001b[0m\u001b[0m\n\u001b[0m\u001b[1;32m     19\u001b[0m \u001b[0;34m\u001b[0m\u001b[0m\n\u001b[1;32m     20\u001b[0m \u001b[0mtoc\u001b[0m \u001b[0;34m=\u001b[0m \u001b[0mtime\u001b[0m\u001b[0;34m.\u001b[0m\u001b[0mperf_counter\u001b[0m\u001b[0;34m(\u001b[0m\u001b[0;34m)\u001b[0m\u001b[0;34m\u001b[0m\u001b[0;34m\u001b[0m\u001b[0m\n",
      "\u001b[0;31mTypeError\u001b[0m: 'int' object is not callable"
     ]
    }
   ],
   "source": []
  }
 ],
 "metadata": {
  "kernelspec": {
   "display_name": "Python 3",
   "language": "python",
   "name": "python3"
  },
  "language_info": {
   "codemirror_mode": {
    "name": "ipython",
    "version": 3
   },
   "file_extension": ".py",
   "mimetype": "text/x-python",
   "name": "python",
   "nbconvert_exporter": "python",
   "pygments_lexer": "ipython3",
   "version": "3.7.1"
  }
 },
 "nbformat": 4,
 "nbformat_minor": 5
}
